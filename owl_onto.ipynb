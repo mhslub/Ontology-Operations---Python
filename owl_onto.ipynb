{
 "cells": [
  {
   "cell_type": "markdown",
   "id": "f93b013c-5996-4a37-a501-5af6a1460310",
   "metadata": {},
   "source": [
    "## Requirements "
   ]
  },
  {
   "cell_type": "code",
   "execution_count": null,
   "id": "cc606197-4794-40a2-913c-c07551cc9f12",
   "metadata": {
    "tags": []
   },
   "outputs": [],
   "source": [
    "!pip3 install Cython #speeds up the loading of large ontologies (optional)\n",
    "!pip3 install owlready2"
   ]
  },
  {
   "cell_type": "markdown",
   "id": "06bae5fc-91a6-4a29-b41f-8aadf94a6e62",
   "metadata": {},
   "source": [
    "## Load an Ontology"
   ]
  },
  {
   "cell_type": "markdown",
   "id": "42aa5ba1-20f2-4da9-b90b-dae2441d8d8b",
   "metadata": {},
   "source": [
    "The sample ontology can be found [here](http://www.lesfleursdunormal.fr/static/_downloads/pizza_onto.owl)"
   ]
  },
  {
   "cell_type": "code",
   "execution_count": null,
   "id": "4667bee2-240d-43ce-995c-de6807f4fd0b",
   "metadata": {
    "tags": []
   },
   "outputs": [],
   "source": [
    "from owlready2 import *"
   ]
  },
  {
   "cell_type": "code",
   "execution_count": null,
   "id": "93010a12-94c4-4224-93bd-edf6ceaa6765",
   "metadata": {
    "tags": []
   },
   "outputs": [],
   "source": [
    "onto = get_ontology(\"http://www.lesfleursdunormal.fr/static/_downloads/pizza_onto.owl\").load()"
   ]
  },
  {
   "cell_type": "markdown",
   "id": "1006c6e5-5bc4-4618-8c7a-f9ac12824706",
   "metadata": {},
   "source": [
    "## Accessing the content of an ontology"
   ]
  },
  {
   "cell_type": "code",
   "execution_count": null,
   "id": "e292c067-79e3-47db-85b7-9939e961ecad",
   "metadata": {
    "tags": []
   },
   "outputs": [],
   "source": [
    "list(onto.classes())"
   ]
  },
  {
   "cell_type": "code",
   "execution_count": null,
   "id": "5e3fc9f5-15be-4199-a991-ca67bf9e8847",
   "metadata": {
    "tags": []
   },
   "outputs": [],
   "source": [
    "list(onto.individuals())"
   ]
  },
  {
   "cell_type": "code",
   "execution_count": null,
   "id": "09252c8b-2b1e-4427-b345-76ca796b6d3d",
   "metadata": {
    "tags": []
   },
   "outputs": [],
   "source": [
    "list(onto.object_properties())"
   ]
  },
  {
   "cell_type": "markdown",
   "id": "ef9ed2a8-b7da-4e4a-bb58-b3a1dc6715df",
   "metadata": {},
   "source": [
    "## Simple Queries"
   ]
  },
  {
   "cell_type": "code",
   "execution_count": null,
   "id": "33d5dd10-63a9-4f51-a234-048b7dd451d5",
   "metadata": {
    "tags": []
   },
   "outputs": [],
   "source": [
    "# searching for all entities with an IRI (Resource Identifier or ID) ending with ‘Topping’\n",
    "onto.search(iri = \"*Topping\") "
   ]
  },
  {
   "cell_type": "code",
   "execution_count": null,
   "id": "46a188e1-41ca-4e85-aec9-5715c70a42c9",
   "metadata": {
    "tags": []
   },
   "outputs": [],
   "source": [
    "#searches for all individuals that are related to another one with the ‘has_topping’ relation\n",
    "onto.search(has_topping = \"*\") # '*' acts as a wildcard for any object"
   ]
  },
  {
   "cell_type": "code",
   "execution_count": null,
   "id": "cfe56f4e-dbad-4f1c-9981-77d603a6c0b9",
   "metadata": {
    "tags": []
   },
   "outputs": [],
   "source": [
    "#create new instances / individuals\n",
    "my_pizza = onto.Pizza(\"my_perfect_pizza\", has_topping=[ onto.CheeseTopping(), onto.MeatTopping()])"
   ]
  },
  {
   "cell_type": "code",
   "execution_count": null,
   "id": "7f463ef1-aa2f-4c3f-b56f-468621b04e04",
   "metadata": {
    "tags": []
   },
   "outputs": [],
   "source": [
    "onto.search(has_topping = \"*\")"
   ]
  },
  {
   "cell_type": "code",
   "execution_count": null,
   "id": "95d13a8e-5f25-426c-a1fd-99881d6cfd0b",
   "metadata": {
    "tags": []
   },
   "outputs": [],
   "source": [
    "my_pizza.has_topping"
   ]
  },
  {
   "cell_type": "code",
   "execution_count": null,
   "id": "e06ddb69-9c8d-4b1d-b908-198a26a4bb60",
   "metadata": {
    "tags": []
   },
   "outputs": [],
   "source": [
    "#classes and individuals can be used as values within search\n",
    "onto.search(is_a = onto.Pizza, has_topping = onto.search(is_a = onto.CheeseTopping)) "
   ]
  },
  {
   "cell_type": "code",
   "execution_count": null,
   "id": "dcdcb379-1dc1-4881-a192-c5bde07619b1",
   "metadata": {
    "tags": []
   },
   "outputs": [],
   "source": [
    "# iterate through all Instances of a Class\n",
    "for i in onto.Pizza.instances(): print(i)"
   ]
  },
  {
   "cell_type": "code",
   "execution_count": null,
   "id": "1696277b-a8a3-42bf-9d91-0b00dc77f295",
   "metadata": {
    "tags": []
   },
   "outputs": [],
   "source": [
    "# The list of properties that exist for a given individual \n",
    "my_pizza.get_properties()"
   ]
  },
  {
   "cell_type": "markdown",
   "id": "8be49204-0df8-43bb-b5a1-4980f0a2b2a7",
   "metadata": {},
   "source": [
    "## Ontology Classes and Properties"
   ]
  },
  {
   "cell_type": "code",
   "execution_count": null,
   "id": "f4afb0de-1ff1-41e7-84be-925e54f0cad6",
   "metadata": {
    "tags": []
   },
   "outputs": [],
   "source": [
    "# Create new class in the ontology\n",
    "with onto:\n",
    "    \n",
    "    # New Ontology objects can be created by sublcassing the Thing class\n",
    "    class Restaurant(Thing): # Ontology Object\n",
    "        pass\n",
    "    \n",
    "    class Restaurant2(): # Normal Python Class\n",
    "        pass\n",
    "    \n",
    "    # New Ontology properties can be created by sublcassing the ObjectProperty class\n",
    "    class servesPizza(ObjectProperty):\n",
    "        domain    = [Restaurant] #the class of instance subjects of the property\n",
    "        range     = [onto.Pizza] #the class of instance objects of the property\n",
    "\n",
    "    # Subclasses can be created by inheriting an ontology class\n",
    "    class PizzawithToppings(onto.Pizza):\n",
    "        # equivalent_to behaves like is_a and allows for adding more specifications\n",
    "        equivalent_to = [\n",
    "            onto.Pizza & onto.has_topping.min(1, onto.Topping) #other restrictions include: some, only, max, exactly\n",
    "        ]\n",
    "        def who(self): print(\"I'm a Pizza with Toppings!\")\n",
    "\n",
    "    class NonVegetarianPizza(PizzawithToppings):\n",
    "        equivalent_to = [\n",
    "            PizzawithToppings & ( onto.has_topping.some(onto.MeatTopping) | onto.has_topping.some(onto.FishTopping) )\n",
    "        ]\n",
    "        def who(self): print(\"I'm a Non Vegetarian Pizza!\")\n",
    "    "
   ]
  },
  {
   "cell_type": "code",
   "execution_count": null,
   "id": "f225ad74-eb82-4f02-8295-37bdf3367db5",
   "metadata": {
    "tags": []
   },
   "outputs": [],
   "source": [
    "fishPizza = NonVegetarianPizza(\"fishPizza\", has_topping=[ onto.FishTopping()])\n",
    "pizzaHut = Restaurant(\"PizzaHut\", servesPizza=[fishPizza])"
   ]
  },
  {
   "cell_type": "code",
   "execution_count": null,
   "id": "31952616-34b3-4e76-b6c6-7b2f6e314777",
   "metadata": {
    "tags": []
   },
   "outputs": [],
   "source": [
    "Restaurant.instances()"
   ]
  },
  {
   "cell_type": "code",
   "execution_count": null,
   "id": "521e2f63-389a-4732-bcf4-79f92c0a79a6",
   "metadata": {
    "tags": []
   },
   "outputs": [],
   "source": [
    "pizzaHut.servesPizza"
   ]
  },
  {
   "cell_type": "markdown",
   "id": "96ead91c-9c31-4563-acd8-391bd771d9ee",
   "metadata": {},
   "source": [
    "## Reasoning"
   ]
  },
  {
   "cell_type": "code",
   "execution_count": null,
   "id": "ded67fad-1894-4128-b891-ec1b74d26a90",
   "metadata": {
    "tags": []
   },
   "outputs": [],
   "source": [
    "my_pizza.__class__"
   ]
  },
  {
   "cell_type": "code",
   "execution_count": null,
   "id": "7cc9bad1-17a7-4be6-8249-2e6442b484a2",
   "metadata": {
    "tags": []
   },
   "outputs": [],
   "source": [
    "# Execute HermiT reasoner and reclassify ontology statements based on ontology axioms\n",
    "# This creates new facts (triplets) and adds then into the ontology\n",
    "# Under windows, you may need to configure the location of the Java interpreter\n",
    "# owlready2.JAVA_EXE = \"C:\\\\path\\\\to\\\\java.exe\"\n",
    "with onto:\n",
    "    sync_reasoner()"
   ]
  },
  {
   "cell_type": "code",
   "execution_count": null,
   "id": "1298de0a-9187-44be-b6c3-d1b2715695ca",
   "metadata": {
    "tags": []
   },
   "outputs": [],
   "source": [
    "my_pizza.__class__"
   ]
  },
  {
   "cell_type": "code",
   "execution_count": null,
   "id": "87f38b6b-0fac-42ff-8486-42dbce33ab1c",
   "metadata": {
    "tags": []
   },
   "outputs": [],
   "source": [
    "my_pizza.who()"
   ]
  },
  {
   "cell_type": "markdown",
   "id": "2a40b86b-9629-4acd-a41b-1f742f23df63",
   "metadata": {
    "tags": []
   },
   "source": [
    "## Reasoning Inconsistent Ontology"
   ]
  },
  {
   "cell_type": "markdown",
   "id": "283189d7-06d6-41c5-820a-af50028b0baa",
   "metadata": {},
   "source": [
    "* In case of inconsistent ontology, an OwlReadyInconsistentOntologyError is raised.\n"
   ]
  },
  {
   "cell_type": "code",
   "execution_count": null,
   "id": "8a0e5e82-33ff-4ec8-bcc3-0e9d8692834b",
   "metadata": {
    "tags": []
   },
   "outputs": [],
   "source": [
    "with onto:\n",
    "    class InconsistentPizza(PizzawithToppings):\n",
    "        equivalent_to = [\n",
    "            PizzawithToppings & ( onto.has_topping.some(onto.Pizza) )\n",
    "        ]\n",
    "       "
   ]
  },
  {
   "cell_type": "markdown",
   "id": "e8353349-9638-491b-8ac4-4283120708a3",
   "metadata": {},
   "source": [
    "* Inconcistent classes may occur without making the entire ontology inconsistent, as long as these classes have no individuals.\n",
    "* Inconsistent classes are inferred as equivalent to Nothing (empty set)."
   ]
  },
  {
   "cell_type": "code",
   "execution_count": null,
   "id": "a086096d-e050-400e-aaa7-9d9840b4230f",
   "metadata": {
    "tags": []
   },
   "outputs": [],
   "source": [
    "my_pizza2 = InconsistentPizza(\"Pizza2\", has_topping=[onto.Pizza])\n",
    "print(my_pizza2.__class__)\n",
    "print(my_pizza2.has_topping)"
   ]
  },
  {
   "cell_type": "markdown",
   "id": "a7e21fa4-a318-4070-b7d7-974319c66257",
   "metadata": {
    "tags": []
   },
   "source": [
    "* Apply reasoner again and notice the produced error OwlReadyInconsistentOntologyError."
   ]
  },
  {
   "cell_type": "markdown",
   "id": "9c9a69c9-f1cf-4b5e-afc3-dc5483be86dd",
   "metadata": {
    "tags": []
   },
   "source": [
    "### Resolve Inconsistency"
   ]
  },
  {
   "cell_type": "markdown",
   "id": "82518820-3243-4f9e-ab89-875fb0db142b",
   "metadata": {},
   "source": [
    "* Ontology editors like [Protégé](https://protege.stanford.edu/) can provide reasons for the inconsistency.\n",
    "* Inconsistencies can also be found by searching for instances of inconsistent classes and removing them."
   ]
  },
  {
   "cell_type": "code",
   "execution_count": null,
   "id": "c33e8d2e-d627-4524-bc95-3002f5c4b3be",
   "metadata": {
    "tags": []
   },
   "outputs": [],
   "source": [
    "# One way to check if a class is inconsistent (after reasoning)\n",
    "if Nothing in InconsistentPizza.equivalent_to:\n",
    "    print(\"Class is inconsistent!\")"
   ]
  },
  {
   "cell_type": "code",
   "execution_count": null,
   "id": "8e212c9b-58ba-446c-bb6f-6bc95cd7eb4d",
   "metadata": {
    "tags": []
   },
   "outputs": [],
   "source": [
    "# List all inconsistent classes in the ontology\n",
    "inc_classes = list(default_world.inconsistent_classes())\n",
    "print(inc_classes)"
   ]
  },
  {
   "cell_type": "code",
   "execution_count": null,
   "id": "e230e2cc-f08d-4622-9acc-072ac6693b3f",
   "metadata": {
    "tags": []
   },
   "outputs": [],
   "source": [
    "# Find instances of the inconsistent class\n",
    "for inc_class in inc_classes:\n",
    "    print(\"Removing instances of\", inc_class)\n",
    "    for instance in onto.get_instances_of(inc_class):\n",
    "        print(\"\\tRemoving\", instance)\n",
    "        destroy_entity(instance) #remove it from the ontology to enable the reasoner to run"
   ]
  },
  {
   "cell_type": "markdown",
   "id": "264d7132-72d7-4f10-8ada-f47b9d55a5ae",
   "metadata": {},
   "source": [
    "* Apply reasoner again and notice the results."
   ]
  },
  {
   "cell_type": "markdown",
   "id": "75f908e4-4f16-4f73-b620-00449b16dc66",
   "metadata": {},
   "source": [
    "## The Nothing Class"
   ]
  },
  {
   "cell_type": "markdown",
   "id": "f74011dc-7ea4-4546-9c01-47455292e79a",
   "metadata": {},
   "source": [
    "* This class exists in the ontology as concept only without any instances.\n",
    "* To keep the ontology sound, this class must not be instantiated."
   ]
  },
  {
   "cell_type": "code",
   "execution_count": null,
   "id": "d1f8619d-ce5f-4205-b771-ec681c7ff48b",
   "metadata": {
    "tags": []
   },
   "outputs": [],
   "source": [
    "Nothing.__class__"
   ]
  },
  {
   "cell_type": "code",
   "execution_count": null,
   "id": "554dcddb-cd91-41cd-817f-cbdf011adbed",
   "metadata": {
    "tags": []
   },
   "outputs": [],
   "source": [
    "# It should not be possible to create instances of the Nothing class!\n",
    "with onto:\n",
    "    nothing = Nothing(\"Empty\")"
   ]
  },
  {
   "cell_type": "code",
   "execution_count": null,
   "id": "88652372-5083-4bf2-9e88-f6068d599c7e",
   "metadata": {
    "tags": []
   },
   "outputs": [],
   "source": [
    "list(onto.individuals())"
   ]
  },
  {
   "cell_type": "markdown",
   "id": "fe4d5957-0093-4d81-839c-1d8c3d2765ae",
   "metadata": {},
   "source": [
    "## Save the Ontology"
   ]
  },
  {
   "cell_type": "code",
   "execution_count": null,
   "id": "a821371a-7119-4d71-9f27-0f5b4316e4d6",
   "metadata": {
    "tags": []
   },
   "outputs": [],
   "source": [
    "#save the updated ontology as RDF/XML\n",
    "onto.save(file = \"new_pizza_onto.owl\", format = \"rdfxml\") #OWL/XML is not yet supported for writing."
   ]
  }
 ],
 "metadata": {
  "kernelspec": {
   "display_name": "Python 3 (ipykernel)",
   "language": "python",
   "name": "python3"
  },
  "language_info": {
   "codemirror_mode": {
    "name": "ipython",
    "version": 3
   },
   "file_extension": ".py",
   "mimetype": "text/x-python",
   "name": "python",
   "nbconvert_exporter": "python",
   "pygments_lexer": "ipython3",
   "version": "3.11.2"
  }
 },
 "nbformat": 4,
 "nbformat_minor": 5
}
